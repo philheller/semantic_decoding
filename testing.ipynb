{
 "cells": [
  {
   "cell_type": "code",
   "execution_count": null,
   "metadata": {},
   "outputs": [],
   "source": [
    "from transformers import AutoModelForCausalLM, AutoTokenizer, GenerationConfig\n",
    "import torch\n",
    "\n",
    "# read access token from environment variable\n",
    "import os\n",
    "import time\n",
    "import sys"
   ]
  },
  {
   "cell_type": "code",
   "execution_count": null,
   "metadata": {},
   "outputs": [],
   "source": [
    "start_time = time.time()\n",
    "access_token = os.getenv(\"HF_TOKEN\")\n",
    "# if access_token is not None:\n",
    "#     print(f\"Access token: {access_token[:3]}{'*' * 16}\")\n",
    "# else:\n",
    "#     print(\"No access token found.\")\n",
    "    # sys.exit(1)\n",
    "device = \"cuda\" if torch.cuda.is_available() else \"cpu\"\n",
    "\n",
    "# print all available devices\n",
    "print(f\"Available devices: {torch.cuda.device_count()}\")\n",
    "# print devices names\n",
    "print(\n",
    "    f\"Device names: {[torch.cuda.get_device_name(i) for i in range(torch.cuda.device_count())]}\"\n",
    ")\n",
    "\n",
    "checkpoints = [\n",
    "    # \"meta-llama/Meta-Llama-3-8B-Instruct\",\n",
    "    # \"meta-llama/Meta-Llama-3-70B-Instruct\",\n",
    "    # \"mistralai/Mistral-7B-Instruct-v0.3\",\n",
    "    # \"mistralai/Mistral-7B-v0.3\",\n",
    "    \"EleutherAI/pythia-70m-deduped\",\n",
    "    # \"EleutherAI/pythia-160m-deduped\",\n",
    "    # \"EleutherAI/pythia-410m-deduped\",\n",
    "    # \"EleutherAI/pythia-1b-deduped\",\n",
    "    # \"EleutherAI/pythia-1.4b-deduped\",\n",
    "    # \"EleutherAI/pythia-2.8b-deduped\",\n",
    "    # \"EleutherAI/pythia-6.9b-deduped\",\n",
    "    # \"EleutherAI/pythia-12b-deduped\",\n",
    "]\n"
   ]
  },
  {
   "cell_type": "code",
   "execution_count": null,
   "metadata": {},
   "outputs": [],
   "source": [
    "# generation config\n",
    "generation_config = GenerationConfig(\n",
    "    \n",
    ")"
   ]
  },
  {
   "cell_type": "code",
   "execution_count": null,
   "metadata": {},
   "outputs": [],
   "source": [
    "print(\"Starting model downloads\")\n",
    "\n",
    "elapsed_time = time.time() - start_time\n",
    "print(f\"Time elapsed: {elapsed_time:.2f} seconds\")\n",
    "for model_name in checkpoints:\n",
    "    print(40 * \"#\")\n",
    "    print(f\"Loading model: {model_name}\")\n",
    "    tokenizer = AutoTokenizer.from_pretrained(model_name)\n",
    "    model = AutoModelForCausalLM.from_pretrained(\n",
    "        model_name, token=access_token, device_map=\"auto\"\n",
    "    )\n",
    "\n",
    "    print(f\"Model {model_name} loaded successfully\")\n",
    "\n",
    "    example = \"Obama was born\"\n",
    "\n",
    "    # generating inputs\n",
    "    model_inputs = tokenizer(example, return_tensors=\"pt\").to(device)\n",
    "\n",
    "    # generating outputs\n",
    "    inference_start_time = time.time()\n",
    "    output = model.generate(**model_inputs, max_new_tokens=200, num_beams=4, num_return_sequences=4)\n",
    "    inference_elapsed_time = time.time() - inference_start_time\n",
    "\n",
    "    print(40 * \"#\" + f\"Output:\")\n",
    "    print(tokenizer.batch_decode(output, skip_special_tokens=True)[0])\n",
    "    elapsed_time = time.time() - start_time\n",
    "    # print(f\"Time elapsed: {elapsed_time:.2f} seconds\")\n",
    "    print(f\"Inference time: {inference_elapsed_time:.2f} seconds\")\n",
    "    # print(f\"Done with {model_name}!\\n\\n\")"
   ]
  }
 ],
 "metadata": {
  "kernelspec": {
   "display_name": "sem-hf",
   "language": "python",
   "name": "sem-hf"
  },
  "language_info": {
   "name": "python",
   "version": "3.12.4"
  }
 },
 "nbformat": 4,
 "nbformat_minor": 2
}
